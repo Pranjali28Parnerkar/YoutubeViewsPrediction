{
 "cells": [
  {
   "cell_type": "markdown",
   "metadata": {},
   "source": [
    "### Objective of the problem"
   ]
  },
  {
   "cell_type": "markdown",
   "metadata": {},
   "source": [
    "The objective of the problem is to predict the values of “views” variable from the given features of the Test data."
   ]
  },
  {
   "cell_type": "markdown",
   "metadata": {},
   "source": [
    "### Description of attributes"
   ]
  },
  {
   "cell_type": "markdown",
   "metadata": {},
   "source": [
    "The data given is related to various trending YouTube videos. Following are the variables involved:\n",
    "- Video_id:- ID of the uploaded video\n",
    "- Publish_date:- Date when it was published\n",
    "- Trending_date:- Last date it was trending\n",
    "- Category_id:- Category it belong \n",
    "- Channel_Title:- Name of the title\n",
    "- Subscriber:- Number of people who subscribed the channel\n",
    "- Title:- Title of the video uploaded\n",
    "- Tags:-Tags appeared with the video\n",
    "- Description:-Description of the video\n",
    "- Trend_day_count:-Number of days video was trending\n",
    "- Tag_count:-Number of tags in the video\n",
    "- Trend_tag_count:- Number of tags trending among total tag\n",
    "- Tag appeared in title:-Does tag appeared in video title\n",
    "- Views:- Number of total views for the video\n"
   ]
  },
  {
   "cell_type": "code",
   "execution_count": 1,
   "metadata": {},
   "outputs": [],
   "source": [
    "import pandas as pd\n",
    "import numpy as np\n",
    "from sklearn import preprocessing\n",
    "import matplotlib.pyplot as plt \n",
    "import seaborn as sns"
   ]
  },
  {
   "cell_type": "code",
   "execution_count": 2,
   "metadata": {},
   "outputs": [
    {
     "data": {
      "text/plain": [
       "(4533, 19)"
      ]
     },
     "execution_count": 2,
     "metadata": {},
     "output_type": "execute_result"
    }
   ],
   "source": [
    "#Read both test and train csv file\n",
    "df_train = pd.read_csv(\"youtube_train.csv\", na_values=' ')\n",
    "df_train.shape"
   ]
  },
  {
   "cell_type": "markdown",
   "metadata": {},
   "source": [
    "### Analyze Data"
   ]
  },
  {
   "cell_type": "code",
   "execution_count": 3,
   "metadata": {},
   "outputs": [
    {
     "data": {
      "text/html": [
       "<div>\n",
       "<style scoped>\n",
       "    .dataframe tbody tr th:only-of-type {\n",
       "        vertical-align: middle;\n",
       "    }\n",
       "\n",
       "    .dataframe tbody tr th {\n",
       "        vertical-align: top;\n",
       "    }\n",
       "\n",
       "    .dataframe thead th {\n",
       "        text-align: right;\n",
       "    }\n",
       "</style>\n",
       "<table border=\"1\" class=\"dataframe\">\n",
       "  <thead>\n",
       "    <tr style=\"text-align: right;\">\n",
       "      <th></th>\n",
       "      <th>subscriber</th>\n",
       "      <th>Trend_day_count</th>\n",
       "      <th>Tag_count</th>\n",
       "      <th>Trend_tag_count</th>\n",
       "      <th>comment_count</th>\n",
       "      <th>likes</th>\n",
       "      <th>dislike</th>\n",
       "    </tr>\n",
       "  </thead>\n",
       "  <tbody>\n",
       "    <tr>\n",
       "      <th>count</th>\n",
       "      <td>4.502000e+03</td>\n",
       "      <td>4533.000000</td>\n",
       "      <td>4532.000000</td>\n",
       "      <td>4532.000000</td>\n",
       "      <td>3084.000000</td>\n",
       "      <td>4.533000e+03</td>\n",
       "      <td>4533.000000</td>\n",
       "    </tr>\n",
       "    <tr>\n",
       "      <th>mean</th>\n",
       "      <td>3.571822e+06</td>\n",
       "      <td>7.535407</td>\n",
       "      <td>17.969109</td>\n",
       "      <td>6.199250</td>\n",
       "      <td>164071.698768</td>\n",
       "      <td>9.769338e+03</td>\n",
       "      <td>5855.016325</td>\n",
       "    </tr>\n",
       "    <tr>\n",
       "      <th>std</th>\n",
       "      <td>2.420216e+07</td>\n",
       "      <td>65.999030</td>\n",
       "      <td>67.560453</td>\n",
       "      <td>147.056849</td>\n",
       "      <td>80581.581656</td>\n",
       "      <td>1.917311e+04</td>\n",
       "      <td>4830.100770</td>\n",
       "    </tr>\n",
       "    <tr>\n",
       "      <th>min</th>\n",
       "      <td>0.000000e+00</td>\n",
       "      <td>0.000000</td>\n",
       "      <td>0.000000</td>\n",
       "      <td>1.000000</td>\n",
       "      <td>23008.000000</td>\n",
       "      <td>0.000000e+00</td>\n",
       "      <td>0.000000</td>\n",
       "    </tr>\n",
       "    <tr>\n",
       "      <th>25%</th>\n",
       "      <td>2.428800e+05</td>\n",
       "      <td>4.000000</td>\n",
       "      <td>12.000000</td>\n",
       "      <td>2.000000</td>\n",
       "      <td>95040.750000</td>\n",
       "      <td>0.000000e+00</td>\n",
       "      <td>0.000000</td>\n",
       "    </tr>\n",
       "    <tr>\n",
       "      <th>50%</th>\n",
       "      <td>1.195770e+06</td>\n",
       "      <td>7.000000</td>\n",
       "      <td>17.000000</td>\n",
       "      <td>4.000000</td>\n",
       "      <td>162631.500000</td>\n",
       "      <td>1.038200e+04</td>\n",
       "      <td>5442.000000</td>\n",
       "    </tr>\n",
       "    <tr>\n",
       "      <th>75%</th>\n",
       "      <td>3.766915e+06</td>\n",
       "      <td>10.000000</td>\n",
       "      <td>21.000000</td>\n",
       "      <td>6.000000</td>\n",
       "      <td>235984.250000</td>\n",
       "      <td>1.500100e+04</td>\n",
       "      <td>10138.000000</td>\n",
       "    </tr>\n",
       "    <tr>\n",
       "      <th>max</th>\n",
       "      <td>1.576229e+09</td>\n",
       "      <td>4444.000000</td>\n",
       "      <td>3225.000000</td>\n",
       "      <td>9903.000000</td>\n",
       "      <td>299877.000000</td>\n",
       "      <td>1.213628e+06</td>\n",
       "      <td>14916.000000</td>\n",
       "    </tr>\n",
       "  </tbody>\n",
       "</table>\n",
       "</div>"
      ],
      "text/plain": [
       "         subscriber  Trend_day_count    Tag_count  Trend_tag_count  \\\n",
       "count  4.502000e+03      4533.000000  4532.000000      4532.000000   \n",
       "mean   3.571822e+06         7.535407    17.969109         6.199250   \n",
       "std    2.420216e+07        65.999030    67.560453       147.056849   \n",
       "min    0.000000e+00         0.000000     0.000000         1.000000   \n",
       "25%    2.428800e+05         4.000000    12.000000         2.000000   \n",
       "50%    1.195770e+06         7.000000    17.000000         4.000000   \n",
       "75%    3.766915e+06        10.000000    21.000000         6.000000   \n",
       "max    1.576229e+09      4444.000000  3225.000000      9903.000000   \n",
       "\n",
       "       comment_count         likes       dislike  \n",
       "count    3084.000000  4.533000e+03   4533.000000  \n",
       "mean   164071.698768  9.769338e+03   5855.016325  \n",
       "std     80581.581656  1.917311e+04   4830.100770  \n",
       "min     23008.000000  0.000000e+00      0.000000  \n",
       "25%     95040.750000  0.000000e+00      0.000000  \n",
       "50%    162631.500000  1.038200e+04   5442.000000  \n",
       "75%    235984.250000  1.500100e+04  10138.000000  \n",
       "max    299877.000000  1.213628e+06  14916.000000  "
      ]
     },
     "execution_count": 3,
     "metadata": {},
     "output_type": "execute_result"
    }
   ],
   "source": [
    "df_train.describe()"
   ]
  },
  {
   "cell_type": "code",
   "execution_count": 4,
   "metadata": {},
   "outputs": [
    {
     "name": "stdout",
     "output_type": "stream",
     "text": [
      "<class 'pandas.core.frame.DataFrame'>\n",
      "RangeIndex: 4533 entries, 0 to 4532\n",
      "Data columns (total 19 columns):\n",
      " #   Column                 Non-Null Count  Dtype  \n",
      "---  ------                 --------------  -----  \n",
      " 0   Video_id               4533 non-null   object \n",
      " 1   publish_date           4531 non-null   object \n",
      " 2   trending_date          4531 non-null   object \n",
      " 3   category_id            4526 non-null   object \n",
      " 4   channel_title          4530 non-null   object \n",
      " 5   subscriber             4502 non-null   float64\n",
      " 6   title                  4531 non-null   object \n",
      " 7   tags                   4325 non-null   object \n",
      " 8   description            4439 non-null   object \n",
      " 9   Trend_day_count        4533 non-null   int64  \n",
      " 10  Tag_count              4532 non-null   float64\n",
      " 11  Trend_tag_count        4532 non-null   float64\n",
      " 12  comment_count          3084 non-null   float64\n",
      " 13  comment_disabled       4533 non-null   bool   \n",
      " 14  like dislike disabled  4533 non-null   bool   \n",
      " 15  likes                  4533 non-null   int64  \n",
      " 16  dislike                4533 non-null   int64  \n",
      " 17  tag appered in title   4532 non-null   object \n",
      " 18  views                  4533 non-null   object \n",
      "dtypes: bool(2), float64(4), int64(3), object(10)\n",
      "memory usage: 611.0+ KB\n"
     ]
    }
   ],
   "source": [
    "df_train.info()"
   ]
  },
  {
   "cell_type": "code",
   "execution_count": 5,
   "metadata": {},
   "outputs": [
    {
     "name": "stdout",
     "output_type": "stream",
     "text": [
      "Video_id                    0\n",
      "publish_date                2\n",
      "trending_date               2\n",
      "category_id                 7\n",
      "channel_title               3\n",
      "subscriber                 31\n",
      "title                       2\n",
      "tags                      208\n",
      "description                94\n",
      "Trend_day_count             0\n",
      "Tag_count                   1\n",
      "Trend_tag_count             1\n",
      "comment_count            1449\n",
      "comment_disabled            0\n",
      "like dislike disabled       0\n",
      "likes                       0\n",
      "dislike                     0\n",
      "tag appered in title        1\n",
      "views                       0\n",
      "dtype: int64\n"
     ]
    }
   ],
   "source": [
    "print(df_train.isnull().sum())"
   ]
  },
  {
   "cell_type": "markdown",
   "metadata": {},
   "source": [
    "### Feature Engineering"
   ]
  },
  {
   "cell_type": "code",
   "execution_count": 6,
   "metadata": {},
   "outputs": [
    {
     "name": "stdout",
     "output_type": "stream",
     "text": [
      "<class 'pandas.core.frame.DataFrame'>\n",
      "Int64Index: 4528 entries, 0 to 4532\n",
      "Data columns (total 19 columns):\n",
      " #   Column                 Non-Null Count  Dtype  \n",
      "---  ------                 --------------  -----  \n",
      " 0   Video_id               4528 non-null   object \n",
      " 1   publish_date           4528 non-null   object \n",
      " 2   trending_date          4528 non-null   object \n",
      " 3   category_id            4521 non-null   object \n",
      " 4   channel_title          1883 non-null   object \n",
      " 5   subscriber             4498 non-null   float64\n",
      " 6   title                  11 non-null     object \n",
      " 7   tags                   326 non-null    object \n",
      " 8   description            19 non-null     object \n",
      " 9   Trend_day_count        4528 non-null   int64  \n",
      " 10  Tag_count              4527 non-null   float64\n",
      " 11  Trend_tag_count        4527 non-null   float64\n",
      " 12  comment_count          3080 non-null   float64\n",
      " 13  comment_disabled       4528 non-null   bool   \n",
      " 14  like dislike disabled  4528 non-null   bool   \n",
      " 15  likes                  4528 non-null   int64  \n",
      " 16  dislike                4528 non-null   int64  \n",
      " 17  tag appered in title   4527 non-null   object \n",
      " 18  views                  4528 non-null   int64  \n",
      "dtypes: bool(2), float64(4), int64(4), object(9)\n",
      "memory usage: 645.6+ KB\n"
     ]
    }
   ],
   "source": [
    "#Convert object columns to numeric and treat incorrect values\n",
    "df_train = df_train[df_train.views!='#VALUE!']\n",
    "df_train = df_train.replace(' ', np.nan, regex=True)\n",
    "df_train['category_id'] = df_train['category_id'].replace('“24', '24', regex=True)\n",
    "df_train['views'] = pd.to_numeric(df_train['views'])\n",
    "df_train['comment_count'] = pd.to_numeric(df_train['comment_count'])\n",
    "df_train['Trend_tag_count'] = pd.to_numeric(df_train['Trend_tag_count'], errors='coerce')\n",
    "df_train=df_train.dropna(subset=['publish_date','trending_date'], axis=0)\n",
    "\n",
    "df_train.info()\n",
    "df_temp = pd.DataFrame(df_train) "
   ]
  },
  {
   "cell_type": "code",
   "execution_count": 7,
   "metadata": {},
   "outputs": [],
   "source": [
    "df_train['Trend_tag_count'].fillna(df_train['Trend_tag_count'].median(), inplace=True)\n",
    "df_train['comment_count'].fillna(df_train['comment_count'].median(), inplace=True)\n",
    "df_train['subscriber'].fillna(df_train['subscriber'].median(), inplace=True)\n",
    "df_train['Tag_count'].fillna(df_train['Tag_count'].median(), inplace=True)"
   ]
  },
  {
   "cell_type": "code",
   "execution_count": 8,
   "metadata": {},
   "outputs": [],
   "source": [
    "import datetime\n",
    "from dateutil.relativedelta import relativedelta\n",
    "from datetime import date\n",
    "df_train['trending_date']= pd.to_datetime(df_train['trending_date']) \n",
    "df_train['publish_date']= pd.to_datetime(df_train['publish_date'])\n",
    "df_train['diff_days'] = df_train['trending_date'] - df_train['publish_date']\n",
    "df_train['diff_days']=df_train['diff_days']/np.timedelta64(1,'D')\n"
   ]
  },
  {
   "cell_type": "code",
   "execution_count": 9,
   "metadata": {},
   "outputs": [],
   "source": [
    "#Splitting date feature into 3 seperate features day, month and year\n",
    "#we intend to check if any of these variables are statistcally significant to the dependent variable\n",
    "df_train['publish_year']=df_train['publish_date'].dt.year\n",
    "df_train['publish_month']=df_train['publish_date'].dt.month\n",
    "df_train['publish_day']=df_train['publish_date'].dt.day\n",
    "\n",
    "df_train['trending_year']=df_train['trending_date'].dt.year\n",
    "df_train['trending_month']=df_train['trending_date'].dt.month\n",
    "df_train['trending_day']=df_train['trending_date'].dt.day"
   ]
  },
  {
   "cell_type": "code",
   "execution_count": 10,
   "metadata": {},
   "outputs": [
    {
     "name": "stdout",
     "output_type": "stream",
     "text": [
      "Video_id                    0\n",
      "publish_date                0\n",
      "trending_date               0\n",
      "category_id                 7\n",
      "channel_title            2645\n",
      "subscriber                  0\n",
      "title                    4517\n",
      "tags                     4202\n",
      "description              4509\n",
      "Trend_day_count             0\n",
      "Tag_count                   0\n",
      "Trend_tag_count             0\n",
      "comment_count               0\n",
      "comment_disabled            0\n",
      "like dislike disabled       0\n",
      "likes                       0\n",
      "dislike                     0\n",
      "tag appered in title        1\n",
      "views                       0\n",
      "diff_days                   0\n",
      "publish_year                0\n",
      "publish_month               0\n",
      "publish_day                 0\n",
      "trending_year               0\n",
      "trending_month              0\n",
      "trending_day                0\n",
      "dtype: int64\n"
     ]
    }
   ],
   "source": [
    "#Check null values\n",
    "print(df_train.isnull().sum())"
   ]
  },
  {
   "cell_type": "code",
   "execution_count": 11,
   "metadata": {
    "scrolled": true
   },
   "outputs": [
    {
     "data": {
      "text/html": [
       "<div>\n",
       "<style scoped>\n",
       "    .dataframe tbody tr th:only-of-type {\n",
       "        vertical-align: middle;\n",
       "    }\n",
       "\n",
       "    .dataframe tbody tr th {\n",
       "        vertical-align: top;\n",
       "    }\n",
       "\n",
       "    .dataframe thead th {\n",
       "        text-align: right;\n",
       "    }\n",
       "</style>\n",
       "<table border=\"1\" class=\"dataframe\">\n",
       "  <thead>\n",
       "    <tr style=\"text-align: right;\">\n",
       "      <th></th>\n",
       "      <th>Video_id</th>\n",
       "      <th>publish_date</th>\n",
       "      <th>trending_date</th>\n",
       "      <th>category_id</th>\n",
       "      <th>channel_title</th>\n",
       "      <th>subscriber</th>\n",
       "      <th>title</th>\n",
       "      <th>tags</th>\n",
       "      <th>description</th>\n",
       "      <th>Trend_day_count</th>\n",
       "      <th>...</th>\n",
       "      <th>category_id_226</th>\n",
       "      <th>category_id_23</th>\n",
       "      <th>category_id_24</th>\n",
       "      <th>category_id_25</th>\n",
       "      <th>category_id_26</th>\n",
       "      <th>category_id_27</th>\n",
       "      <th>category_id_28</th>\n",
       "      <th>category_id_29</th>\n",
       "      <th>category_id_43</th>\n",
       "      <th>tag appered in title_True</th>\n",
       "    </tr>\n",
       "  </thead>\n",
       "  <tbody>\n",
       "    <tr>\n",
       "      <th>0</th>\n",
       "      <td>HDR9SQc79</td>\n",
       "      <td>2017-11-13</td>\n",
       "      <td>2017-11-20</td>\n",
       "      <td>22</td>\n",
       "      <td>CaseyNeistat</td>\n",
       "      <td>9086142.0</td>\n",
       "      <td>NaN</td>\n",
       "      <td>NaN</td>\n",
       "      <td>NaN</td>\n",
       "      <td>6</td>\n",
       "      <td>...</td>\n",
       "      <td>0</td>\n",
       "      <td>0</td>\n",
       "      <td>0</td>\n",
       "      <td>0</td>\n",
       "      <td>0</td>\n",
       "      <td>0</td>\n",
       "      <td>0</td>\n",
       "      <td>0</td>\n",
       "      <td>0</td>\n",
       "      <td>0</td>\n",
       "    </tr>\n",
       "    <tr>\n",
       "      <th>1</th>\n",
       "      <td>KNH52UF?48</td>\n",
       "      <td>2017-11-13</td>\n",
       "      <td>2017-11-20</td>\n",
       "      <td>24</td>\n",
       "      <td>LastWeekTonight</td>\n",
       "      <td>5937292.0</td>\n",
       "      <td>NaN</td>\n",
       "      <td>NaN</td>\n",
       "      <td>NaN</td>\n",
       "      <td>1</td>\n",
       "      <td>...</td>\n",
       "      <td>0</td>\n",
       "      <td>0</td>\n",
       "      <td>1</td>\n",
       "      <td>0</td>\n",
       "      <td>0</td>\n",
       "      <td>0</td>\n",
       "      <td>0</td>\n",
       "      <td>0</td>\n",
       "      <td>0</td>\n",
       "      <td>0</td>\n",
       "    </tr>\n",
       "    <tr>\n",
       "      <th>2</th>\n",
       "      <td>QTW28IRG36</td>\n",
       "      <td>2017-12-11</td>\n",
       "      <td>2017-11-20</td>\n",
       "      <td>23</td>\n",
       "      <td>NaN</td>\n",
       "      <td>4191209.0</td>\n",
       "      <td>NaN</td>\n",
       "      <td>NaN</td>\n",
       "      <td>NaN</td>\n",
       "      <td>10</td>\n",
       "      <td>...</td>\n",
       "      <td>0</td>\n",
       "      <td>1</td>\n",
       "      <td>0</td>\n",
       "      <td>0</td>\n",
       "      <td>0</td>\n",
       "      <td>0</td>\n",
       "      <td>0</td>\n",
       "      <td>0</td>\n",
       "      <td>0</td>\n",
       "      <td>1</td>\n",
       "    </tr>\n",
       "    <tr>\n",
       "      <th>3</th>\n",
       "      <td>MGL76WI]26</td>\n",
       "      <td>2017-11-13</td>\n",
       "      <td>2017-11-20</td>\n",
       "      <td>24</td>\n",
       "      <td>NaN</td>\n",
       "      <td>13186408.0</td>\n",
       "      <td>NaN</td>\n",
       "      <td>NaN</td>\n",
       "      <td>NaN</td>\n",
       "      <td>12</td>\n",
       "      <td>...</td>\n",
       "      <td>0</td>\n",
       "      <td>0</td>\n",
       "      <td>1</td>\n",
       "      <td>0</td>\n",
       "      <td>0</td>\n",
       "      <td>0</td>\n",
       "      <td>0</td>\n",
       "      <td>0</td>\n",
       "      <td>0</td>\n",
       "      <td>1</td>\n",
       "    </tr>\n",
       "    <tr>\n",
       "      <th>4</th>\n",
       "      <td>TWP93KXT70</td>\n",
       "      <td>2017-12-11</td>\n",
       "      <td>2017-11-19</td>\n",
       "      <td>224</td>\n",
       "      <td>nigahiga</td>\n",
       "      <td>20563106.0</td>\n",
       "      <td>NaN</td>\n",
       "      <td>NaN</td>\n",
       "      <td>NaN</td>\n",
       "      <td>11</td>\n",
       "      <td>...</td>\n",
       "      <td>0</td>\n",
       "      <td>0</td>\n",
       "      <td>0</td>\n",
       "      <td>0</td>\n",
       "      <td>0</td>\n",
       "      <td>0</td>\n",
       "      <td>0</td>\n",
       "      <td>0</td>\n",
       "      <td>0</td>\n",
       "      <td>1</td>\n",
       "    </tr>\n",
       "  </tbody>\n",
       "</table>\n",
       "<p>5 rows × 48 columns</p>\n",
       "</div>"
      ],
      "text/plain": [
       "     Video_id publish_date trending_date category_id    channel_title  \\\n",
       "0   HDR9SQc79   2017-11-13    2017-11-20          22     CaseyNeistat   \n",
       "1  KNH52UF?48   2017-11-13    2017-11-20          24  LastWeekTonight   \n",
       "2  QTW28IRG36   2017-12-11    2017-11-20          23              NaN   \n",
       "3  MGL76WI]26   2017-11-13    2017-11-20          24              NaN   \n",
       "4  TWP93KXT70   2017-12-11    2017-11-19         224         nigahiga   \n",
       "\n",
       "   subscriber title tags description  Trend_day_count  ...  category_id_226  \\\n",
       "0   9086142.0   NaN  NaN         NaN                6  ...                0   \n",
       "1   5937292.0   NaN  NaN         NaN                1  ...                0   \n",
       "2   4191209.0   NaN  NaN         NaN               10  ...                0   \n",
       "3  13186408.0   NaN  NaN         NaN               12  ...                0   \n",
       "4  20563106.0   NaN  NaN         NaN               11  ...                0   \n",
       "\n",
       "   category_id_23  category_id_24  category_id_25  category_id_26  \\\n",
       "0               0               0               0               0   \n",
       "1               0               1               0               0   \n",
       "2               1               0               0               0   \n",
       "3               0               1               0               0   \n",
       "4               0               0               0               0   \n",
       "\n",
       "   category_id_27  category_id_28 category_id_29  category_id_43  \\\n",
       "0               0               0              0               0   \n",
       "1               0               0              0               0   \n",
       "2               0               0              0               0   \n",
       "3               0               0              0               0   \n",
       "4               0               0              0               0   \n",
       "\n",
       "   tag appered in title_True  \n",
       "0                          0  \n",
       "1                          0  \n",
       "2                          1  \n",
       "3                          1  \n",
       "4                          1  \n",
       "\n",
       "[5 rows x 48 columns]"
      ]
     },
     "execution_count": 11,
     "metadata": {},
     "output_type": "execute_result"
    }
   ],
   "source": [
    "#Handle categorical variable using dummmies\n",
    "cat_vars =['category_id','tag appered in title']\n",
    "for var in cat_vars:\n",
    "    cat_list = 'var'+'_'+var\n",
    "    \n",
    "    cat_list = pd.get_dummies(df_train[var],prefix=var,drop_first =True)\n",
    "    data1 = df_train.join(cat_list)\n",
    "    \n",
    "    df_train=data1\n",
    "    \n",
    "df_train.head()"
   ]
  },
  {
   "cell_type": "markdown",
   "metadata": {},
   "source": [
    "### Data Visualisation"
   ]
  },
  {
   "cell_type": "code",
   "execution_count": 12,
   "metadata": {},
   "outputs": [
    {
     "data": {
      "text/plain": [
       "<seaborn.axisgrid.PairGrid at 0x12a6c5d1250>"
      ]
     },
     "execution_count": 12,
     "metadata": {},
     "output_type": "execute_result"
    },
    {
     "data": {
      "image/png": "[encoded data removed]",
      "text/plain": [
       "<Figure size 1260x180 with 7 Axes>"
      ]
     },
     "metadata": {
      "needs_background": "light"
     },
     "output_type": "display_data"
    }
   ],
   "source": [
    "#Visualisation of relationship between dependent and independent variables\n",
    "sns.pairplot(data=df_train,x_vars=[\"subscriber\",\"likes\",\"dislike\",\"comment_count\",\"Tag_count\",\"Trend_tag_count\",\"Trend_day_count\"],y_vars=\"views\",\n",
    "            kind='scatter')"
   ]
  },
  {
   "cell_type": "markdown",
   "metadata": {},
   "source": [
    "#### From the above scatter plot, we can conclude that the predictors are not showing a linear relationship with the target variable and hence Linear regression algorithm will not work in this case."
   ]
  },
  {
   "cell_type": "code",
   "execution_count": 13,
   "metadata": {},
   "outputs": [
    {
     "data": {
      "text/html": [
       "<div>\n",
       "<style scoped>\n",
       "    .dataframe tbody tr th:only-of-type {\n",
       "        vertical-align: middle;\n",
       "    }\n",
       "\n",
       "    .dataframe tbody tr th {\n",
       "        vertical-align: top;\n",
       "    }\n",
       "\n",
       "    .dataframe thead th {\n",
       "        text-align: right;\n",
       "    }\n",
       "</style>\n",
       "<table border=\"1\" class=\"dataframe\">\n",
       "  <thead>\n",
       "    <tr style=\"text-align: right;\">\n",
       "      <th></th>\n",
       "      <th>subscriber</th>\n",
       "      <th>Trend_day_count</th>\n",
       "      <th>Tag_count</th>\n",
       "      <th>Trend_tag_count</th>\n",
       "      <th>comment_count</th>\n",
       "      <th>comment_disabled</th>\n",
       "      <th>like dislike disabled</th>\n",
       "      <th>likes</th>\n",
       "      <th>dislike</th>\n",
       "      <th>views</th>\n",
       "      <th>diff_days</th>\n",
       "      <th>publish_year</th>\n",
       "      <th>publish_month</th>\n",
       "      <th>publish_day</th>\n",
       "      <th>trending_year</th>\n",
       "      <th>trending_month</th>\n",
       "      <th>trending_day</th>\n",
       "    </tr>\n",
       "  </thead>\n",
       "  <tbody>\n",
       "    <tr>\n",
       "      <th>subscriber</th>\n",
       "      <td>1.00</td>\n",
       "      <td>-0.00</td>\n",
       "      <td>-0.00</td>\n",
       "      <td>-0.00</td>\n",
       "      <td>-0.01</td>\n",
       "      <td>0.01</td>\n",
       "      <td>0.02</td>\n",
       "      <td>-0.01</td>\n",
       "      <td>-0.02</td>\n",
       "      <td>0.01</td>\n",
       "      <td>-0.01</td>\n",
       "      <td>-0.00</td>\n",
       "      <td>0.02</td>\n",
       "      <td>-0.00</td>\n",
       "      <td>-0.03</td>\n",
       "      <td>0.03</td>\n",
       "      <td>-0.00</td>\n",
       "    </tr>\n",
       "    <tr>\n",
       "      <th>Trend_day_count</th>\n",
       "      <td>-0.00</td>\n",
       "      <td>1.00</td>\n",
       "      <td>-0.00</td>\n",
       "      <td>0.00</td>\n",
       "      <td>-0.01</td>\n",
       "      <td>0.01</td>\n",
       "      <td>-0.01</td>\n",
       "      <td>0.00</td>\n",
       "      <td>0.01</td>\n",
       "      <td>-0.00</td>\n",
       "      <td>-0.00</td>\n",
       "      <td>-0.01</td>\n",
       "      <td>0.02</td>\n",
       "      <td>0.01</td>\n",
       "      <td>-0.02</td>\n",
       "      <td>0.02</td>\n",
       "      <td>0.02</td>\n",
       "    </tr>\n",
       "    <tr>\n",
       "      <th>Tag_count</th>\n",
       "      <td>-0.00</td>\n",
       "      <td>-0.00</td>\n",
       "      <td>1.00</td>\n",
       "      <td>0.00</td>\n",
       "      <td>0.01</td>\n",
       "      <td>-0.01</td>\n",
       "      <td>0.04</td>\n",
       "      <td>-0.01</td>\n",
       "      <td>-0.03</td>\n",
       "      <td>-0.00</td>\n",
       "      <td>0.00</td>\n",
       "      <td>-0.01</td>\n",
       "      <td>0.02</td>\n",
       "      <td>-0.00</td>\n",
       "      <td>-0.03</td>\n",
       "      <td>0.03</td>\n",
       "      <td>0.01</td>\n",
       "    </tr>\n",
       "    <tr>\n",
       "      <th>Trend_tag_count</th>\n",
       "      <td>-0.00</td>\n",
       "      <td>0.00</td>\n",
       "      <td>0.00</td>\n",
       "      <td>1.00</td>\n",
       "      <td>-0.00</td>\n",
       "      <td>-0.02</td>\n",
       "      <td>-0.01</td>\n",
       "      <td>-0.00</td>\n",
       "      <td>-0.01</td>\n",
       "      <td>-0.00</td>\n",
       "      <td>-0.00</td>\n",
       "      <td>-0.01</td>\n",
       "      <td>0.01</td>\n",
       "      <td>-0.01</td>\n",
       "      <td>-0.02</td>\n",
       "      <td>0.02</td>\n",
       "      <td>-0.00</td>\n",
       "    </tr>\n",
       "    <tr>\n",
       "      <th>comment_count</th>\n",
       "      <td>-0.01</td>\n",
       "      <td>-0.01</td>\n",
       "      <td>0.01</td>\n",
       "      <td>-0.00</td>\n",
       "      <td>1.00</td>\n",
       "      <td>0.01</td>\n",
       "      <td>-0.01</td>\n",
       "      <td>-0.01</td>\n",
       "      <td>-0.01</td>\n",
       "      <td>0.03</td>\n",
       "      <td>0.01</td>\n",
       "      <td>-0.00</td>\n",
       "      <td>-0.00</td>\n",
       "      <td>-0.02</td>\n",
       "      <td>0.00</td>\n",
       "      <td>0.01</td>\n",
       "      <td>-0.00</td>\n",
       "    </tr>\n",
       "    <tr>\n",
       "      <th>comment_disabled</th>\n",
       "      <td>0.01</td>\n",
       "      <td>0.01</td>\n",
       "      <td>-0.01</td>\n",
       "      <td>-0.02</td>\n",
       "      <td>0.01</td>\n",
       "      <td>1.00</td>\n",
       "      <td>-0.01</td>\n",
       "      <td>0.02</td>\n",
       "      <td>0.02</td>\n",
       "      <td>0.02</td>\n",
       "      <td>0.01</td>\n",
       "      <td>-0.01</td>\n",
       "      <td>0.01</td>\n",
       "      <td>0.01</td>\n",
       "      <td>-0.02</td>\n",
       "      <td>0.02</td>\n",
       "      <td>-0.02</td>\n",
       "    </tr>\n",
       "    <tr>\n",
       "      <th>like dislike disabled</th>\n",
       "      <td>0.02</td>\n",
       "      <td>-0.01</td>\n",
       "      <td>0.04</td>\n",
       "      <td>-0.01</td>\n",
       "      <td>-0.01</td>\n",
       "      <td>-0.01</td>\n",
       "      <td>1.00</td>\n",
       "      <td>-0.30</td>\n",
       "      <td>-0.71</td>\n",
       "      <td>0.01</td>\n",
       "      <td>0.01</td>\n",
       "      <td>-0.02</td>\n",
       "      <td>0.03</td>\n",
       "      <td>-0.01</td>\n",
       "      <td>-0.01</td>\n",
       "      <td>0.03</td>\n",
       "      <td>0.01</td>\n",
       "    </tr>\n",
       "    <tr>\n",
       "      <th>likes</th>\n",
       "      <td>-0.01</td>\n",
       "      <td>0.00</td>\n",
       "      <td>-0.01</td>\n",
       "      <td>-0.00</td>\n",
       "      <td>-0.01</td>\n",
       "      <td>0.02</td>\n",
       "      <td>-0.30</td>\n",
       "      <td>1.00</td>\n",
       "      <td>0.34</td>\n",
       "      <td>-0.01</td>\n",
       "      <td>-0.01</td>\n",
       "      <td>-0.00</td>\n",
       "      <td>-0.00</td>\n",
       "      <td>0.00</td>\n",
       "      <td>-0.02</td>\n",
       "      <td>0.01</td>\n",
       "      <td>-0.00</td>\n",
       "    </tr>\n",
       "    <tr>\n",
       "      <th>dislike</th>\n",
       "      <td>-0.02</td>\n",
       "      <td>0.01</td>\n",
       "      <td>-0.03</td>\n",
       "      <td>-0.01</td>\n",
       "      <td>-0.01</td>\n",
       "      <td>0.02</td>\n",
       "      <td>-0.71</td>\n",
       "      <td>0.34</td>\n",
       "      <td>1.00</td>\n",
       "      <td>-0.02</td>\n",
       "      <td>-0.02</td>\n",
       "      <td>0.02</td>\n",
       "      <td>-0.03</td>\n",
       "      <td>0.01</td>\n",
       "      <td>-0.00</td>\n",
       "      <td>-0.01</td>\n",
       "      <td>-0.02</td>\n",
       "    </tr>\n",
       "    <tr>\n",
       "      <th>views</th>\n",
       "      <td>0.01</td>\n",
       "      <td>-0.00</td>\n",
       "      <td>-0.00</td>\n",
       "      <td>-0.00</td>\n",
       "      <td>0.03</td>\n",
       "      <td>0.02</td>\n",
       "      <td>0.01</td>\n",
       "      <td>-0.01</td>\n",
       "      <td>-0.02</td>\n",
       "      <td>1.00</td>\n",
       "      <td>0.11</td>\n",
       "      <td>-0.09</td>\n",
       "      <td>-0.00</td>\n",
       "      <td>0.01</td>\n",
       "      <td>-0.01</td>\n",
       "      <td>0.03</td>\n",
       "      <td>-0.01</td>\n",
       "    </tr>\n",
       "    <tr>\n",
       "      <th>diff_days</th>\n",
       "      <td>-0.01</td>\n",
       "      <td>-0.00</td>\n",
       "      <td>0.00</td>\n",
       "      <td>-0.00</td>\n",
       "      <td>0.01</td>\n",
       "      <td>0.01</td>\n",
       "      <td>0.01</td>\n",
       "      <td>-0.01</td>\n",
       "      <td>-0.02</td>\n",
       "      <td>0.11</td>\n",
       "      <td>1.00</td>\n",
       "      <td>-0.75</td>\n",
       "      <td>-0.15</td>\n",
       "      <td>0.01</td>\n",
       "      <td>0.00</td>\n",
       "      <td>0.19</td>\n",
       "      <td>-0.14</td>\n",
       "    </tr>\n",
       "    <tr>\n",
       "      <th>publish_year</th>\n",
       "      <td>-0.00</td>\n",
       "      <td>-0.01</td>\n",
       "      <td>-0.01</td>\n",
       "      <td>-0.01</td>\n",
       "      <td>-0.00</td>\n",
       "      <td>-0.01</td>\n",
       "      <td>-0.02</td>\n",
       "      <td>-0.00</td>\n",
       "      <td>0.02</td>\n",
       "      <td>-0.09</td>\n",
       "      <td>-0.75</td>\n",
       "      <td>1.00</td>\n",
       "      <td>-0.43</td>\n",
       "      <td>-0.14</td>\n",
       "      <td>0.51</td>\n",
       "      <td>-0.40</td>\n",
       "      <td>-0.11</td>\n",
       "    </tr>\n",
       "    <tr>\n",
       "      <th>publish_month</th>\n",
       "      <td>0.02</td>\n",
       "      <td>0.02</td>\n",
       "      <td>0.02</td>\n",
       "      <td>0.01</td>\n",
       "      <td>-0.00</td>\n",
       "      <td>0.01</td>\n",
       "      <td>0.03</td>\n",
       "      <td>-0.00</td>\n",
       "      <td>-0.03</td>\n",
       "      <td>-0.00</td>\n",
       "      <td>-0.15</td>\n",
       "      <td>-0.43</td>\n",
       "      <td>1.00</td>\n",
       "      <td>-0.04</td>\n",
       "      <td>-0.61</td>\n",
       "      <td>0.52</td>\n",
       "      <td>0.19</td>\n",
       "    </tr>\n",
       "    <tr>\n",
       "      <th>publish_day</th>\n",
       "      <td>-0.00</td>\n",
       "      <td>0.01</td>\n",
       "      <td>-0.00</td>\n",
       "      <td>-0.01</td>\n",
       "      <td>-0.02</td>\n",
       "      <td>0.01</td>\n",
       "      <td>-0.01</td>\n",
       "      <td>0.00</td>\n",
       "      <td>0.01</td>\n",
       "      <td>0.01</td>\n",
       "      <td>0.01</td>\n",
       "      <td>-0.14</td>\n",
       "      <td>-0.04</td>\n",
       "      <td>1.00</td>\n",
       "      <td>-0.14</td>\n",
       "      <td>-0.10</td>\n",
       "      <td>0.10</td>\n",
       "    </tr>\n",
       "    <tr>\n",
       "      <th>trending_year</th>\n",
       "      <td>-0.03</td>\n",
       "      <td>-0.02</td>\n",
       "      <td>-0.03</td>\n",
       "      <td>-0.02</td>\n",
       "      <td>0.00</td>\n",
       "      <td>-0.02</td>\n",
       "      <td>-0.01</td>\n",
       "      <td>-0.02</td>\n",
       "      <td>-0.00</td>\n",
       "      <td>-0.01</td>\n",
       "      <td>0.00</td>\n",
       "      <td>0.51</td>\n",
       "      <td>-0.61</td>\n",
       "      <td>-0.14</td>\n",
       "      <td>1.00</td>\n",
       "      <td>-0.76</td>\n",
       "      <td>-0.36</td>\n",
       "    </tr>\n",
       "    <tr>\n",
       "      <th>trending_month</th>\n",
       "      <td>0.03</td>\n",
       "      <td>0.02</td>\n",
       "      <td>0.03</td>\n",
       "      <td>0.02</td>\n",
       "      <td>0.01</td>\n",
       "      <td>0.02</td>\n",
       "      <td>0.03</td>\n",
       "      <td>0.01</td>\n",
       "      <td>-0.01</td>\n",
       "      <td>0.03</td>\n",
       "      <td>0.19</td>\n",
       "      <td>-0.40</td>\n",
       "      <td>0.52</td>\n",
       "      <td>-0.10</td>\n",
       "      <td>-0.76</td>\n",
       "      <td>1.00</td>\n",
       "      <td>0.07</td>\n",
       "    </tr>\n",
       "    <tr>\n",
       "      <th>trending_day</th>\n",
       "      <td>-0.00</td>\n",
       "      <td>0.02</td>\n",
       "      <td>0.01</td>\n",
       "      <td>-0.00</td>\n",
       "      <td>-0.00</td>\n",
       "      <td>-0.02</td>\n",
       "      <td>0.01</td>\n",
       "      <td>-0.00</td>\n",
       "      <td>-0.02</td>\n",
       "      <td>-0.01</td>\n",
       "      <td>-0.14</td>\n",
       "      <td>-0.11</td>\n",
       "      <td>0.19</td>\n",
       "      <td>0.10</td>\n",
       "      <td>-0.36</td>\n",
       "      <td>0.07</td>\n",
       "      <td>1.00</td>\n",
       "    </tr>\n",
       "  </tbody>\n",
       "</table>\n",
       "</div>"
      ],
      "text/plain": [
       "                       subscriber  Trend_day_count  Tag_count  \\\n",
       "subscriber                   1.00            -0.00      -0.00   \n",
       "Trend_day_count             -0.00             1.00      -0.00   \n",
       "Tag_count                   -0.00            -0.00       1.00   \n",
       "Trend_tag_count             -0.00             0.00       0.00   \n",
       "comment_count               -0.01            -0.01       0.01   \n",
       "comment_disabled             0.01             0.01      -0.01   \n",
       "like dislike disabled        0.02            -0.01       0.04   \n",
       "likes                       -0.01             0.00      -0.01   \n",
       "dislike                     -0.02             0.01      -0.03   \n",
       "views                        0.01            -0.00      -0.00   \n",
       "diff_days                   -0.01            -0.00       0.00   \n",
       "publish_year                -0.00            -0.01      -0.01   \n",
       "publish_month                0.02             0.02       0.02   \n",
       "publish_day                 -0.00             0.01      -0.00   \n",
       "trending_year               -0.03            -0.02      -0.03   \n",
       "trending_month               0.03             0.02       0.03   \n",
       "trending_day                -0.00             0.02       0.01   \n",
       "\n",
       "                       Trend_tag_count  comment_count  comment_disabled  \\\n",
       "subscriber                       -0.00          -0.01              0.01   \n",
       "Trend_day_count                   0.00          -0.01              0.01   \n",
       "Tag_count                         0.00           0.01             -0.01   \n",
       "Trend_tag_count                   1.00          -0.00             -0.02   \n",
       "comment_count                    -0.00           1.00              0.01   \n",
       "comment_disabled                 -0.02           0.01              1.00   \n",
       "like dislike disabled            -0.01          -0.01             -0.01   \n",
       "likes                            -0.00          -0.01              0.02   \n",
       "dislike                          -0.01          -0.01              0.02   \n",
       "views                            -0.00           0.03              0.02   \n",
       "diff_days                        -0.00           0.01              0.01   \n",
       "publish_year                     -0.01          -0.00             -0.01   \n",
       "publish_month                     0.01          -0.00              0.01   \n",
       "publish_day                      -0.01          -0.02              0.01   \n",
       "trending_year                    -0.02           0.00             -0.02   \n",
       "trending_month                    0.02           0.01              0.02   \n",
       "trending_day                     -0.00          -0.00             -0.02   \n",
       "\n",
       "                       like dislike disabled  likes  dislike  views  \\\n",
       "subscriber                              0.02  -0.01    -0.02   0.01   \n",
       "Trend_day_count                        -0.01   0.00     0.01  -0.00   \n",
       "Tag_count                               0.04  -0.01    -0.03  -0.00   \n",
       "Trend_tag_count                        -0.01  -0.00    -0.01  -0.00   \n",
       "comment_count                          -0.01  -0.01    -0.01   0.03   \n",
       "comment_disabled                       -0.01   0.02     0.02   0.02   \n",
       "like dislike disabled                   1.00  -0.30    -0.71   0.01   \n",
       "likes                                  -0.30   1.00     0.34  -0.01   \n",
       "dislike                                -0.71   0.34     1.00  -0.02   \n",
       "views                                   0.01  -0.01    -0.02   1.00   \n",
       "diff_days                               0.01  -0.01    -0.02   0.11   \n",
       "publish_year                           -0.02  -0.00     0.02  -0.09   \n",
       "publish_month                           0.03  -0.00    -0.03  -0.00   \n",
       "publish_day                            -0.01   0.00     0.01   0.01   \n",
       "trending_year                          -0.01  -0.02    -0.00  -0.01   \n",
       "trending_month                          0.03   0.01    -0.01   0.03   \n",
       "trending_day                            0.01  -0.00    -0.02  -0.01   \n",
       "\n",
       "                       diff_days  publish_year  publish_month  publish_day  \\\n",
       "subscriber                 -0.01         -0.00           0.02        -0.00   \n",
       "Trend_day_count            -0.00         -0.01           0.02         0.01   \n",
       "Tag_count                   0.00         -0.01           0.02        -0.00   \n",
       "Trend_tag_count            -0.00         -0.01           0.01        -0.01   \n",
       "comment_count               0.01         -0.00          -0.00        -0.02   \n",
       "comment_disabled            0.01         -0.01           0.01         0.01   \n",
       "like dislike disabled       0.01         -0.02           0.03        -0.01   \n",
       "likes                      -0.01         -0.00          -0.00         0.00   \n",
       "dislike                    -0.02          0.02          -0.03         0.01   \n",
       "views                       0.11         -0.09          -0.00         0.01   \n",
       "diff_days                   1.00         -0.75          -0.15         0.01   \n",
       "publish_year               -0.75          1.00          -0.43        -0.14   \n",
       "publish_month              -0.15         -0.43           1.00        -0.04   \n",
       "publish_day                 0.01         -0.14          -0.04         1.00   \n",
       "trending_year               0.00          0.51          -0.61        -0.14   \n",
       "trending_month              0.19         -0.40           0.52        -0.10   \n",
       "trending_day               -0.14         -0.11           0.19         0.10   \n",
       "\n",
       "                       trending_year  trending_month  trending_day  \n",
       "subscriber                     -0.03            0.03         -0.00  \n",
       "Trend_day_count                -0.02            0.02          0.02  \n",
       "Tag_count                      -0.03            0.03          0.01  \n",
       "Trend_tag_count                -0.02            0.02         -0.00  \n",
       "comment_count                   0.00            0.01         -0.00  \n",
       "comment_disabled               -0.02            0.02         -0.02  \n",
       "like dislike disabled          -0.01            0.03          0.01  \n",
       "likes                          -0.02            0.01         -0.00  \n",
       "dislike                        -0.00           -0.01         -0.02  \n",
       "views                          -0.01            0.03         -0.01  \n",
       "diff_days                       0.00            0.19         -0.14  \n",
       "publish_year                    0.51           -0.40         -0.11  \n",
       "publish_month                  -0.61            0.52          0.19  \n",
       "publish_day                    -0.14           -0.10          0.10  \n",
       "trending_year                   1.00           -0.76         -0.36  \n",
       "trending_month                 -0.76            1.00          0.07  \n",
       "trending_day                   -0.36            0.07          1.00  "
      ]
     },
     "execution_count": 13,
     "metadata": {},
     "output_type": "execute_result"
    }
   ],
   "source": [
    "#Find Correlation\n",
    "correlation_matrix = df_temp.corr().round(2)\n",
    "correlation_matrix"
   ]
  },
  {
   "cell_type": "code",
   "execution_count": 14,
   "metadata": {},
   "outputs": [
    {
     "data": {
      "text/plain": [
       "<matplotlib.axes._subplots.AxesSubplot at 0x12a6cdaf550>"
      ]
     },
     "execution_count": 14,
     "metadata": {},
     "output_type": "execute_result"
    },
    {
     "data": {
      "image/png": "[encoded data removed]",
      "text/plain": [
       "<Figure size 432x288 with 2 Axes>"
      ]
     },
     "metadata": {
      "needs_background": "light"
     },
     "output_type": "display_data"
    }
   ],
   "source": [
    "sns.heatmap(data=correlation_matrix, annot=True)"
   ]
  },
  {
   "cell_type": "code",
   "execution_count": 15,
   "metadata": {},
   "outputs": [
    {
     "data": {
      "image/png": "[encoded data removed]",
      "text/plain": [
       "<Figure size 432x288 with 1 Axes>"
      ]
     },
     "metadata": {
      "needs_background": "light"
     },
     "output_type": "display_data"
    },
    {
     "data": {
      "image/png": "[encoded data removed]",
      "text/plain": [
       "<Figure size 432x288 with 1 Axes>"
      ]
     },
     "metadata": {
      "needs_background": "light"
     },
     "output_type": "display_data"
    },
    {
     "data": {
      "image/png": "[encoded data removed]",
      "text/plain": [
       "<Figure size 432x288 with 1 Axes>"
      ]
     },
     "metadata": {
      "needs_background": "light"
     },
     "output_type": "display_data"
    },
    {
     "data": {
      "image/png": "[encoded data removed]",
      "text/plain": [
       "<Figure size 432x288 with 1 Axes>"
      ]
     },
     "metadata": {
      "needs_background": "light"
     },
     "output_type": "display_data"
    },
    {
     "data": {
      "image/png": "[encoded data removed]",
      "text/plain": [
       "<Figure size 432x288 with 1 Axes>"
      ]
     },
     "metadata": {
      "needs_background": "light"
     },
     "output_type": "display_data"
    },
    {
     "data": {
      "image/png": "[encoded data removed]",
      "text/plain": [
       "<Figure size 432x288 with 1 Axes>"
      ]
     },
     "metadata": {
      "needs_background": "light"
     },
     "output_type": "display_data"
    },
    {
     "data": {
      "image/png": "[encoded data removed]",
      "text/plain": [
       "<Figure size 432x288 with 1 Axes>"
      ]
     },
     "metadata": {
      "needs_background": "light"
     },
     "output_type": "display_data"
    },
    {
     "data": {
      "image/png": "[encoded data removed]",
      "text/plain": [
       "<Figure size 432x288 with 1 Axes>"
      ]
     },
     "metadata": {
      "needs_background": "light"
     },
     "output_type": "display_data"
    }
   ],
   "source": [
    "new_df=df_train[['Trend_day_count', 'subscriber', 'Tag_count','comment_count','likes','dislike','views','Trend_tag_count']].copy()\n",
    "\n",
    "for col in new_df.columns:\n",
    "    plt.boxplot(new_df[col])\n",
    "    plt.title(col)\n",
    "    plt.show()"
   ]
  },
  {
   "cell_type": "code",
   "execution_count": 16,
   "metadata": {},
   "outputs": [],
   "source": [
    "def outlier_treatment(datacolumn):\n",
    "    sorted(datacolumn)\n",
    "    Q1,Q3 = np.percentile(datacolumn,[25,75])\n",
    "    IQR = Q3 - Q1\n",
    "    low_range = Q1 - (1.5 * IQR)\n",
    "    up_range = Q3 +(1.5 * IQR)\n",
    "    return low_range,up_range"
   ]
  },
  {
   "cell_type": "code",
   "execution_count": 17,
   "metadata": {},
   "outputs": [],
   "source": [
    "lowerbd ,upperbd = outlier_treatment(df_train.subscriber)\n",
    "df_train.drop(df_train[(df_train.subscriber > upperbd)|(df_train.subscriber < lowerbd)].index,inplace=True)"
   ]
  },
  {
   "cell_type": "code",
   "execution_count": 18,
   "metadata": {},
   "outputs": [],
   "source": [
    "lowerbd ,upperbd = outlier_treatment(df_train.Trend_day_count)\n",
    "df_train.drop(df_train[(df_train.Trend_day_count > upperbd)|(df_train.Trend_day_count < lowerbd)].index,inplace=True)"
   ]
  },
  {
   "cell_type": "code",
   "execution_count": 19,
   "metadata": {},
   "outputs": [],
   "source": [
    "lowerbd ,upperbd = outlier_treatment(df_train.Tag_count)\n",
    "df_train.drop(df_train[(df_train.Tag_count > upperbd)|(df_train.Tag_count < lowerbd)].index,inplace=True)"
   ]
  },
  {
   "cell_type": "code",
   "execution_count": 20,
   "metadata": {},
   "outputs": [],
   "source": [
    "lowerbd ,upperbd = outlier_treatment(df_train.comment_count)\n",
    "df_train.drop(df_train[(df_train.comment_count > upperbd)|(df_train.comment_count < lowerbd)].index,inplace=True)"
   ]
  },
  {
   "cell_type": "code",
   "execution_count": 21,
   "metadata": {},
   "outputs": [],
   "source": [
    "lowerbd ,upperbd = outlier_treatment(df_train.likes)\n",
    "df_train.drop(df_train[(df_train.likes > upperbd)|(df_train.likes < lowerbd)].index,inplace=True)"
   ]
  },
  {
   "cell_type": "code",
   "execution_count": 22,
   "metadata": {},
   "outputs": [],
   "source": [
    "lowerbd ,upperbd = outlier_treatment(df_train.dislike)\n",
    "df_train.drop(df_train[(df_train.dislike> upperbd)|(df_train.dislike < lowerbd)].index,inplace=True)"
   ]
  },
  {
   "cell_type": "code",
   "execution_count": 23,
   "metadata": {},
   "outputs": [],
   "source": [
    "lowerbd ,upperbd = outlier_treatment(df_train.views)\n",
    "df_train.drop(df_train[(df_train.views> upperbd)|(df_train.views < lowerbd)].index,inplace=True)"
   ]
  },
  {
   "cell_type": "code",
   "execution_count": 24,
   "metadata": {},
   "outputs": [],
   "source": [
    "lowerbd ,upperbd = outlier_treatment(df_train.Trend_tag_count)\n",
    "df_train.drop(df_train[(df_train.Trend_tag_count> upperbd)|(df_train.Trend_tag_count < lowerbd)].index,inplace=True)"
   ]
  },
  {
   "cell_type": "code",
   "execution_count": 25,
   "metadata": {},
   "outputs": [
    {
     "data": {
      "image/png": "[encoded data removed]",
      "text/plain": [
       "<Figure size 432x288 with 1 Axes>"
      ]
     },
     "metadata": {
      "needs_background": "light"
     },
     "output_type": "display_data"
    },
    {
     "data": {
      "image/png": "[encoded data removed]",
      "text/plain": [
       "<Figure size 432x288 with 1 Axes>"
      ]
     },
     "metadata": {
      "needs_background": "light"
     },
     "output_type": "display_data"
    },
    {
     "data": {
      "image/png": "[encoded data removed]",
      "text/plain": [
       "<Figure size 432x288 with 1 Axes>"
      ]
     },
     "metadata": {
      "needs_background": "light"
     },
     "output_type": "display_data"
    },
    {
     "data": {
      "image/png": "[encoded data removed]",
      "text/plain": [
       "<Figure size 432x288 with 1 Axes>"
      ]
     },
     "metadata": {
      "needs_background": "light"
     },
     "output_type": "display_data"
    },
    {
     "data": {
      "image/png": "[encoded data removed]",
      "text/plain": [
       "<Figure size 432x288 with 1 Axes>"
      ]
     },
     "metadata": {
      "needs_background": "light"
     },
     "output_type": "display_data"
    },
    {
     "data": {
      "image/png": "[encoded data removed]",
      "text/plain": [
       "<Figure size 432x288 with 1 Axes>"
      ]
     },
     "metadata": {
      "needs_background": "light"
     },
     "output_type": "display_data"
    },
    {
     "data": {
      "image/png": "[encoded data removed]",
      "text/plain": [
       "<Figure size 432x288 with 1 Axes>"
      ]
     },
     "metadata": {
      "needs_background": "light"
     },
     "output_type": "display_data"
    },
    {
     "data": {
      "image/png": "[encoded data removed]",
      "text/plain": [
       "<Figure size 432x288 with 1 Axes>"
      ]
     },
     "metadata": {
      "needs_background": "light"
     },
     "output_type": "display_data"
    }
   ],
   "source": [
    "new_df=df_train[['Trend_day_count', 'subscriber', 'Tag_count','comment_count','likes','dislike','views','Trend_tag_count']].copy()\n",
    "\n",
    "for col in new_df.columns:\n",
    "    plt.boxplot(new_df[col])\n",
    "    plt.title(col)\n",
    "    plt.show()"
   ]
  },
  {
   "cell_type": "code",
   "execution_count": 26,
   "metadata": {},
   "outputs": [
    {
     "data": {
      "image/png": "[encoded data removed]",
      "text/plain": [
       "<Figure size 1440x720 with 6 Axes>"
      ]
     },
     "metadata": {
      "needs_background": "light"
     },
     "output_type": "display_data"
    }
   ],
   "source": [
    "plt.figure(figsize=(20,10))\n",
    "\n",
    "plt.subplot(231)\n",
    "plt.hist(x=\"Trend_day_count\",data=df_train, bins=10,color='darkred')\n",
    "plt.title('Trend_day_count')\n",
    "\n",
    "plt.subplot(232)\n",
    "plt.hist(x=\"subscriber\",data=df_train, bins=20,color='darkred')\n",
    "plt.title('subscriber')\n",
    "\n",
    "plt.subplot(233)\n",
    "plt.hist(x=\"Tag_count\",data=df_train, bins=10,color='darkred')\n",
    "plt.title('Tag_count')\n",
    "\n",
    "plt.subplot(234)\n",
    "plt.hist(x=\"comment_count\",data=df_train, bins=10, color='darkred')\n",
    "plt.title('comment_count')\n",
    "\n",
    "plt.subplot(235)\n",
    "plt.hist(x=\"views\", data= df_train, bins=10, color='darkred')\n",
    "plt.title('views')\n",
    "\n",
    "plt.subplot(236)\n",
    "plt.hist(x=\"Trend_tag_count\", data=df_train, bins=10, color='darkred')\n",
    "plt.title('Trend_tag_count')\n",
    "\n",
    "plt.show()"
   ]
  },
  {
   "cell_type": "code",
   "execution_count": null,
   "metadata": {},
   "outputs": [],
   "source": []
  },
  {
   "cell_type": "code",
   "execution_count": 27,
   "metadata": {},
   "outputs": [
    {
     "data": {
      "text/plain": [
       "Video_id                        0\n",
       "publish_date                    0\n",
       "trending_date                   0\n",
       "category_id                     6\n",
       "channel_title                2354\n",
       "subscriber                      0\n",
       "title                        3874\n",
       "tags                         3600\n",
       "description                  3865\n",
       "Trend_day_count                 0\n",
       "Tag_count                       0\n",
       "Trend_tag_count                 0\n",
       "comment_count                   0\n",
       "comment_disabled                0\n",
       "like dislike disabled           0\n",
       "likes                           0\n",
       "dislike                         0\n",
       "tag appered in title            0\n",
       "views                           0\n",
       "diff_days                       0\n",
       "publish_year                    0\n",
       "publish_month                   0\n",
       "publish_day                     0\n",
       "trending_year                   0\n",
       "trending_month                  0\n",
       "trending_day                    0\n",
       "category_id_10                  0\n",
       "category_id_117                 0\n",
       "category_id_122                 0\n",
       "category_id_15                  0\n",
       "category_id_17                  0\n",
       "category_id_19                  0\n",
       "category_id_2                   0\n",
       "category_id_20                  0\n",
       "category_id_210                 0\n",
       "category_id_22                  0\n",
       "category_id_2225                0\n",
       "category_id_224                 0\n",
       "category_id_226                 0\n",
       "category_id_23                  0\n",
       "category_id_24                  0\n",
       "category_id_25                  0\n",
       "category_id_26                  0\n",
       "category_id_27                  0\n",
       "category_id_28                  0\n",
       "category_id_29                  0\n",
       "category_id_43                  0\n",
       "tag appered in title_True       0\n",
       "dtype: int64"
      ]
     },
     "execution_count": 27,
     "metadata": {},
     "output_type": "execute_result"
    }
   ],
   "source": [
    "df_train.isnull().sum()"
   ]
  },
  {
   "cell_type": "code",
   "execution_count": 28,
   "metadata": {},
   "outputs": [],
   "source": [
    "df_train= df_train.drop([\"Video_id\",\"category_id\",\"channel_title\",\"title\",\"tags\",\"publish_date\",'trending_date','description','comment_disabled','like dislike disabled','tag appered in title'],axis=1)"
   ]
  },
  {
   "cell_type": "code",
   "execution_count": 29,
   "metadata": {},
   "outputs": [],
   "source": [
    "df = df_train"
   ]
  },
  {
   "cell_type": "code",
   "execution_count": 30,
   "metadata": {},
   "outputs": [
    {
     "data": {
      "text/plain": [
       "subscriber                   0\n",
       "Trend_day_count              0\n",
       "Tag_count                    0\n",
       "Trend_tag_count              0\n",
       "comment_count                0\n",
       "likes                        0\n",
       "dislike                      0\n",
       "views                        0\n",
       "diff_days                    0\n",
       "publish_year                 0\n",
       "publish_month                0\n",
       "publish_day                  0\n",
       "trending_year                0\n",
       "trending_month               0\n",
       "trending_day                 0\n",
       "category_id_10               0\n",
       "category_id_117              0\n",
       "category_id_122              0\n",
       "category_id_15               0\n",
       "category_id_17               0\n",
       "category_id_19               0\n",
       "category_id_2                0\n",
       "category_id_20               0\n",
       "category_id_210              0\n",
       "category_id_22               0\n",
       "category_id_2225             0\n",
       "category_id_224              0\n",
       "category_id_226              0\n",
       "category_id_23               0\n",
       "category_id_24               0\n",
       "category_id_25               0\n",
       "category_id_26               0\n",
       "category_id_27               0\n",
       "category_id_28               0\n",
       "category_id_29               0\n",
       "category_id_43               0\n",
       "tag appered in title_True    0\n",
       "dtype: int64"
      ]
     },
     "execution_count": 30,
     "metadata": {},
     "output_type": "execute_result"
    }
   ],
   "source": [
    "df_train.isnull().sum()"
   ]
  },
  {
   "cell_type": "code",
   "execution_count": 31,
   "metadata": {},
   "outputs": [
    {
     "data": {
      "text/plain": [
       "subscriber                   0\n",
       "Trend_day_count              0\n",
       "Tag_count                    0\n",
       "Trend_tag_count              0\n",
       "comment_count                0\n",
       "likes                        0\n",
       "dislike                      0\n",
       "views                        0\n",
       "diff_days                    0\n",
       "publish_year                 0\n",
       "publish_month                0\n",
       "publish_day                  0\n",
       "trending_year                0\n",
       "trending_month               0\n",
       "trending_day                 0\n",
       "category_id_10               0\n",
       "category_id_117              0\n",
       "category_id_122              0\n",
       "category_id_15               0\n",
       "category_id_17               0\n",
       "category_id_19               0\n",
       "category_id_2                0\n",
       "category_id_20               0\n",
       "category_id_210              0\n",
       "category_id_22               0\n",
       "category_id_2225             0\n",
       "category_id_224              0\n",
       "category_id_226              0\n",
       "category_id_23               0\n",
       "category_id_24               0\n",
       "category_id_25               0\n",
       "category_id_26               0\n",
       "category_id_27               0\n",
       "category_id_28               0\n",
       "category_id_29               0\n",
       "category_id_43               0\n",
       "tag appered in title_True    0\n",
       "dtype: int64"
      ]
     },
     "execution_count": 31,
     "metadata": {},
     "output_type": "execute_result"
    }
   ],
   "source": [
    "df.isnull().sum()"
   ]
  },
  {
   "cell_type": "code",
   "execution_count": 32,
   "metadata": {},
   "outputs": [],
   "source": [
    "df_train= df_train.drop([\"category_id_226\",\"category_id_122\",\"category_id_2225\",\"category_id_224\",\"category_id_43\",\"category_id_210\"],axis=1)"
   ]
  },
  {
   "cell_type": "code",
   "execution_count": 33,
   "metadata": {},
   "outputs": [],
   "source": [
    "y = df['views']"
   ]
  },
  {
   "cell_type": "code",
   "execution_count": 34,
   "metadata": {},
   "outputs": [
    {
     "data": {
      "text/html": [
       "<div>\n",
       "<style scoped>\n",
       "    .dataframe tbody tr th:only-of-type {\n",
       "        vertical-align: middle;\n",
       "    }\n",
       "\n",
       "    .dataframe tbody tr th {\n",
       "        vertical-align: top;\n",
       "    }\n",
       "\n",
       "    .dataframe thead th {\n",
       "        text-align: right;\n",
       "    }\n",
       "</style>\n",
       "<table border=\"1\" class=\"dataframe\">\n",
       "  <thead>\n",
       "    <tr style=\"text-align: right;\">\n",
       "      <th></th>\n",
       "      <th>subscriber</th>\n",
       "      <th>Trend_day_count</th>\n",
       "      <th>Tag_count</th>\n",
       "      <th>Trend_tag_count</th>\n",
       "      <th>comment_count</th>\n",
       "      <th>likes</th>\n",
       "      <th>dislike</th>\n",
       "      <th>diff_days</th>\n",
       "      <th>publish_year</th>\n",
       "      <th>publish_month</th>\n",
       "      <th>...</th>\n",
       "      <th>category_id_226</th>\n",
       "      <th>category_id_23</th>\n",
       "      <th>category_id_24</th>\n",
       "      <th>category_id_25</th>\n",
       "      <th>category_id_26</th>\n",
       "      <th>category_id_27</th>\n",
       "      <th>category_id_28</th>\n",
       "      <th>category_id_29</th>\n",
       "      <th>category_id_43</th>\n",
       "      <th>tag appered in title_True</th>\n",
       "    </tr>\n",
       "  </thead>\n",
       "  <tbody>\n",
       "    <tr>\n",
       "      <th>1</th>\n",
       "      <td>5937292.0</td>\n",
       "      <td>1</td>\n",
       "      <td>23.0</td>\n",
       "      <td>1.0</td>\n",
       "      <td>116266.0</td>\n",
       "      <td>5761</td>\n",
       "      <td>3044</td>\n",
       "      <td>7.0</td>\n",
       "      <td>2017</td>\n",
       "      <td>11</td>\n",
       "      <td>...</td>\n",
       "      <td>0</td>\n",
       "      <td>0</td>\n",
       "      <td>1</td>\n",
       "      <td>0</td>\n",
       "      <td>0</td>\n",
       "      <td>0</td>\n",
       "      <td>0</td>\n",
       "      <td>0</td>\n",
       "      <td>0</td>\n",
       "      <td>0</td>\n",
       "    </tr>\n",
       "    <tr>\n",
       "      <th>2</th>\n",
       "      <td>4191209.0</td>\n",
       "      <td>10</td>\n",
       "      <td>22.0</td>\n",
       "      <td>3.0</td>\n",
       "      <td>257850.0</td>\n",
       "      <td>0</td>\n",
       "      <td>0</td>\n",
       "      <td>-21.0</td>\n",
       "      <td>2017</td>\n",
       "      <td>12</td>\n",
       "      <td>...</td>\n",
       "      <td>0</td>\n",
       "      <td>1</td>\n",
       "      <td>0</td>\n",
       "      <td>0</td>\n",
       "      <td>0</td>\n",
       "      <td>0</td>\n",
       "      <td>0</td>\n",
       "      <td>0</td>\n",
       "      <td>0</td>\n",
       "      <td>1</td>\n",
       "    </tr>\n",
       "    <tr>\n",
       "      <th>5</th>\n",
       "      <td>4652602.0</td>\n",
       "      <td>10</td>\n",
       "      <td>9.0</td>\n",
       "      <td>1.0</td>\n",
       "      <td>198248.0</td>\n",
       "      <td>8619</td>\n",
       "      <td>3697</td>\n",
       "      <td>7.0</td>\n",
       "      <td>2017</td>\n",
       "      <td>11</td>\n",
       "      <td>...</td>\n",
       "      <td>0</td>\n",
       "      <td>0</td>\n",
       "      <td>0</td>\n",
       "      <td>0</td>\n",
       "      <td>0</td>\n",
       "      <td>0</td>\n",
       "      <td>1</td>\n",
       "      <td>0</td>\n",
       "      <td>0</td>\n",
       "      <td>1</td>\n",
       "    </tr>\n",
       "    <tr>\n",
       "      <th>6</th>\n",
       "      <td>5292034.0</td>\n",
       "      <td>4</td>\n",
       "      <td>17.0</td>\n",
       "      <td>5.0</td>\n",
       "      <td>162537.0</td>\n",
       "      <td>9951</td>\n",
       "      <td>937</td>\n",
       "      <td>-23.0</td>\n",
       "      <td>2017</td>\n",
       "      <td>12</td>\n",
       "      <td>...</td>\n",
       "      <td>0</td>\n",
       "      <td>0</td>\n",
       "      <td>1</td>\n",
       "      <td>0</td>\n",
       "      <td>0</td>\n",
       "      <td>0</td>\n",
       "      <td>0</td>\n",
       "      <td>0</td>\n",
       "      <td>0</td>\n",
       "      <td>0</td>\n",
       "    </tr>\n",
       "    <tr>\n",
       "      <th>8</th>\n",
       "      <td>2453494.0</td>\n",
       "      <td>8</td>\n",
       "      <td>20.0</td>\n",
       "      <td>1.0</td>\n",
       "      <td>214583.0</td>\n",
       "      <td>12126</td>\n",
       "      <td>7855</td>\n",
       "      <td>2.0</td>\n",
       "      <td>2017</td>\n",
       "      <td>11</td>\n",
       "      <td>...</td>\n",
       "      <td>0</td>\n",
       "      <td>0</td>\n",
       "      <td>0</td>\n",
       "      <td>0</td>\n",
       "      <td>0</td>\n",
       "      <td>0</td>\n",
       "      <td>0</td>\n",
       "      <td>0</td>\n",
       "      <td>0</td>\n",
       "      <td>1</td>\n",
       "    </tr>\n",
       "    <tr>\n",
       "      <th>...</th>\n",
       "      <td>...</td>\n",
       "      <td>...</td>\n",
       "      <td>...</td>\n",
       "      <td>...</td>\n",
       "      <td>...</td>\n",
       "      <td>...</td>\n",
       "      <td>...</td>\n",
       "      <td>...</td>\n",
       "      <td>...</td>\n",
       "      <td>...</td>\n",
       "      <td>...</td>\n",
       "      <td>...</td>\n",
       "      <td>...</td>\n",
       "      <td>...</td>\n",
       "      <td>...</td>\n",
       "      <td>...</td>\n",
       "      <td>...</td>\n",
       "      <td>...</td>\n",
       "      <td>...</td>\n",
       "      <td>...</td>\n",
       "      <td>...</td>\n",
       "    </tr>\n",
       "    <tr>\n",
       "      <th>4527</th>\n",
       "      <td>1165807.0</td>\n",
       "      <td>3</td>\n",
       "      <td>21.0</td>\n",
       "      <td>2.0</td>\n",
       "      <td>42379.0</td>\n",
       "      <td>6338</td>\n",
       "      <td>1898</td>\n",
       "      <td>30.0</td>\n",
       "      <td>2018</td>\n",
       "      <td>4</td>\n",
       "      <td>...</td>\n",
       "      <td>0</td>\n",
       "      <td>0</td>\n",
       "      <td>1</td>\n",
       "      <td>0</td>\n",
       "      <td>0</td>\n",
       "      <td>0</td>\n",
       "      <td>0</td>\n",
       "      <td>0</td>\n",
       "      <td>0</td>\n",
       "      <td>0</td>\n",
       "    </tr>\n",
       "    <tr>\n",
       "      <th>4529</th>\n",
       "      <td>5292034.0</td>\n",
       "      <td>3</td>\n",
       "      <td>8.0</td>\n",
       "      <td>1.0</td>\n",
       "      <td>94868.0</td>\n",
       "      <td>0</td>\n",
       "      <td>0</td>\n",
       "      <td>30.0</td>\n",
       "      <td>2018</td>\n",
       "      <td>4</td>\n",
       "      <td>...</td>\n",
       "      <td>0</td>\n",
       "      <td>0</td>\n",
       "      <td>1</td>\n",
       "      <td>0</td>\n",
       "      <td>0</td>\n",
       "      <td>0</td>\n",
       "      <td>0</td>\n",
       "      <td>0</td>\n",
       "      <td>0</td>\n",
       "      <td>1</td>\n",
       "    </tr>\n",
       "    <tr>\n",
       "      <th>4530</th>\n",
       "      <td>1568812.0</td>\n",
       "      <td>5</td>\n",
       "      <td>22.0</td>\n",
       "      <td>1.0</td>\n",
       "      <td>241644.0</td>\n",
       "      <td>7795</td>\n",
       "      <td>6940</td>\n",
       "      <td>30.0</td>\n",
       "      <td>2018</td>\n",
       "      <td>4</td>\n",
       "      <td>...</td>\n",
       "      <td>0</td>\n",
       "      <td>0</td>\n",
       "      <td>1</td>\n",
       "      <td>0</td>\n",
       "      <td>0</td>\n",
       "      <td>0</td>\n",
       "      <td>0</td>\n",
       "      <td>0</td>\n",
       "      <td>0</td>\n",
       "      <td>1</td>\n",
       "    </tr>\n",
       "    <tr>\n",
       "      <th>4531</th>\n",
       "      <td>1607518.0</td>\n",
       "      <td>7</td>\n",
       "      <td>15.0</td>\n",
       "      <td>2.0</td>\n",
       "      <td>162537.0</td>\n",
       "      <td>11795</td>\n",
       "      <td>10139</td>\n",
       "      <td>30.0</td>\n",
       "      <td>2018</td>\n",
       "      <td>4</td>\n",
       "      <td>...</td>\n",
       "      <td>0</td>\n",
       "      <td>0</td>\n",
       "      <td>0</td>\n",
       "      <td>0</td>\n",
       "      <td>0</td>\n",
       "      <td>1</td>\n",
       "      <td>0</td>\n",
       "      <td>0</td>\n",
       "      <td>0</td>\n",
       "      <td>1</td>\n",
       "    </tr>\n",
       "    <tr>\n",
       "      <th>4532</th>\n",
       "      <td>4381391.0</td>\n",
       "      <td>1</td>\n",
       "      <td>18.0</td>\n",
       "      <td>6.0</td>\n",
       "      <td>196618.0</td>\n",
       "      <td>12360</td>\n",
       "      <td>7695</td>\n",
       "      <td>30.0</td>\n",
       "      <td>2018</td>\n",
       "      <td>4</td>\n",
       "      <td>...</td>\n",
       "      <td>0</td>\n",
       "      <td>0</td>\n",
       "      <td>0</td>\n",
       "      <td>0</td>\n",
       "      <td>0</td>\n",
       "      <td>0</td>\n",
       "      <td>0</td>\n",
       "      <td>0</td>\n",
       "      <td>0</td>\n",
       "      <td>1</td>\n",
       "    </tr>\n",
       "  </tbody>\n",
       "</table>\n",
       "<p>3883 rows × 36 columns</p>\n",
       "</div>"
      ],
      "text/plain": [
       "      subscriber  Trend_day_count  Tag_count  Trend_tag_count  comment_count  \\\n",
       "1      5937292.0                1       23.0              1.0       116266.0   \n",
       "2      4191209.0               10       22.0              3.0       257850.0   \n",
       "5      4652602.0               10        9.0              1.0       198248.0   \n",
       "6      5292034.0                4       17.0              5.0       162537.0   \n",
       "8      2453494.0                8       20.0              1.0       214583.0   \n",
       "...          ...              ...        ...              ...            ...   \n",
       "4527   1165807.0                3       21.0              2.0        42379.0   \n",
       "4529   5292034.0                3        8.0              1.0        94868.0   \n",
       "4530   1568812.0                5       22.0              1.0       241644.0   \n",
       "4531   1607518.0                7       15.0              2.0       162537.0   \n",
       "4532   4381391.0                1       18.0              6.0       196618.0   \n",
       "\n",
       "      likes  dislike  diff_days  publish_year  publish_month  ...  \\\n",
       "1      5761     3044        7.0          2017             11  ...   \n",
       "2         0        0      -21.0          2017             12  ...   \n",
       "5      8619     3697        7.0          2017             11  ...   \n",
       "6      9951      937      -23.0          2017             12  ...   \n",
       "8     12126     7855        2.0          2017             11  ...   \n",
       "...     ...      ...        ...           ...            ...  ...   \n",
       "4527   6338     1898       30.0          2018              4  ...   \n",
       "4529      0        0       30.0          2018              4  ...   \n",
       "4530   7795     6940       30.0          2018              4  ...   \n",
       "4531  11795    10139       30.0          2018              4  ...   \n",
       "4532  12360     7695       30.0          2018              4  ...   \n",
       "\n",
       "      category_id_226  category_id_23  category_id_24  category_id_25  \\\n",
       "1                   0               0               1               0   \n",
       "2                   0               1               0               0   \n",
       "5                   0               0               0               0   \n",
       "6                   0               0               1               0   \n",
       "8                   0               0               0               0   \n",
       "...               ...             ...             ...             ...   \n",
       "4527                0               0               1               0   \n",
       "4529                0               0               1               0   \n",
       "4530                0               0               1               0   \n",
       "4531                0               0               0               0   \n",
       "4532                0               0               0               0   \n",
       "\n",
       "      category_id_26  category_id_27  category_id_28  category_id_29  \\\n",
       "1                  0               0               0               0   \n",
       "2                  0               0               0               0   \n",
       "5                  0               0               1               0   \n",
       "6                  0               0               0               0   \n",
       "8                  0               0               0               0   \n",
       "...              ...             ...             ...             ...   \n",
       "4527               0               0               0               0   \n",
       "4529               0               0               0               0   \n",
       "4530               0               0               0               0   \n",
       "4531               0               1               0               0   \n",
       "4532               0               0               0               0   \n",
       "\n",
       "      category_id_43  tag appered in title_True  \n",
       "1                  0                          0  \n",
       "2                  0                          1  \n",
       "5                  0                          1  \n",
       "6                  0                          0  \n",
       "8                  0                          1  \n",
       "...              ...                        ...  \n",
       "4527               0                          0  \n",
       "4529               0                          1  \n",
       "4530               0                          1  \n",
       "4531               0                          1  \n",
       "4532               0                          1  \n",
       "\n",
       "[3883 rows x 36 columns]"
      ]
     },
     "execution_count": 34,
     "metadata": {},
     "output_type": "execute_result"
    }
   ],
   "source": [
    "X = df.drop('views',axis=1)\n",
    "X"
   ]
  },
  {
   "cell_type": "code",
   "execution_count": 35,
   "metadata": {},
   "outputs": [
    {
     "name": "stdout",
     "output_type": "stream",
     "text": [
      "(2601, 36)\n",
      "(1282, 36)\n",
      "(2601,)\n",
      "(1282,)\n"
     ]
    }
   ],
   "source": [
    "from sklearn.model_selection import train_test_split\n",
    "X_train, X_test, Y_train, Y_test = train_test_split(X,y,test_size=0.33,random_state=5)\n",
    "print(X_train.shape)\n",
    "print(X_test.shape)\n",
    "print(Y_train.shape)\n",
    "print(Y_test.shape)"
   ]
  },
  {
   "cell_type": "markdown",
   "metadata": {},
   "source": [
    "### Applying Decision tree Algorithm"
   ]
  },
  {
   "cell_type": "code",
   "execution_count": 36,
   "metadata": {},
   "outputs": [
    {
     "data": {
      "text/plain": [
       "DecisionTreeRegressor(random_state=10)"
      ]
     },
     "execution_count": 36,
     "metadata": {},
     "output_type": "execute_result"
    }
   ],
   "source": [
    "# import the regressor \n",
    "from sklearn.tree import DecisionTreeRegressor\n",
    "\n",
    "# create a regressor object \n",
    "regressor = DecisionTreeRegressor(criterion='mse', random_state = 10)  \n",
    "\n",
    "# fit the regressor with X and Y data \n",
    "regressor.fit(X_train, Y_train)"
   ]
  },
  {
   "cell_type": "code",
   "execution_count": 37,
   "metadata": {},
   "outputs": [],
   "source": [
    "Y_predict=regressor.predict(X_test)"
   ]
  },
  {
   "cell_type": "code",
   "execution_count": 38,
   "metadata": {},
   "outputs": [
    {
     "name": "stdout",
     "output_type": "stream",
     "text": [
      "Root Mean Squared Error: 116325.89707396708\n",
      "R sqaure 0.9142644580759034\n"
     ]
    }
   ],
   "source": [
    "from sklearn import metrics\n",
    "\n",
    "print('Root Mean Squared Error:', np.sqrt(metrics.mean_squared_error(Y_test, Y_predict)))\n",
    "print('R sqaure',metrics.r2_score(Y_test,Y_predict))"
   ]
  },
  {
   "cell_type": "markdown",
   "metadata": {},
   "source": [
    "### Applying Random Forest Algorithm"
   ]
  },
  {
   "cell_type": "code",
   "execution_count": 39,
   "metadata": {},
   "outputs": [
    {
     "data": {
      "text/plain": [
       "RandomForestRegressor(n_estimators=25, random_state=10)"
      ]
     },
     "execution_count": 39,
     "metadata": {},
     "output_type": "execute_result"
    }
   ],
   "source": [
    "# import the regressor \n",
    "from sklearn.ensemble import RandomForestRegressor\n",
    "\n",
    "# create a regressor object \n",
    "regressor = RandomForestRegressor(n_estimators=25, random_state=10)\n",
    "\n",
    "# fit the regressor with X and Y data \n",
    "regressor.fit(X_train, Y_train)"
   ]
  },
  {
   "cell_type": "code",
   "execution_count": 40,
   "metadata": {},
   "outputs": [],
   "source": [
    "Y_predict = regressor.predict(X_test)"
   ]
  },
  {
   "cell_type": "code",
   "execution_count": 41,
   "metadata": {},
   "outputs": [
    {
     "name": "stdout",
     "output_type": "stream",
     "text": [
      "Root Mean Squared Error: 85500.68154738305\n",
      "R sqaure 0.9536822739442077\n"
     ]
    }
   ],
   "source": [
    "from sklearn import metrics\n",
    "\n",
    "print('Root Mean Squared Error:', np.sqrt(metrics.mean_squared_error(Y_test, Y_predict)))\n",
    "print('R sqaure',metrics.r2_score(Y_test,Y_predict))"
   ]
  },
  {
   "cell_type": "markdown",
   "metadata": {},
   "source": [
    "### Applying Ensemble Technique - Gradient Boosting"
   ]
  },
  {
   "cell_type": "code",
   "execution_count": 42,
   "metadata": {},
   "outputs": [],
   "source": [
    "from sklearn import datasets, ensemble\n",
    "from sklearn.metrics import mean_squared_error"
   ]
  },
  {
   "cell_type": "code",
   "execution_count": 43,
   "metadata": {},
   "outputs": [
    {
     "data": {
      "text/plain": [
       "GradientBoostingRegressor()"
      ]
     },
     "execution_count": 43,
     "metadata": {},
     "output_type": "execute_result"
    }
   ],
   "source": [
    "reg = ensemble.GradientBoostingRegressor()\n",
    "reg.fit(X_train, Y_train)"
   ]
  },
  {
   "cell_type": "code",
   "execution_count": 44,
   "metadata": {},
   "outputs": [],
   "source": [
    "Y_predict = reg.predict(X_test)"
   ]
  },
  {
   "cell_type": "code",
   "execution_count": 45,
   "metadata": {},
   "outputs": [
    {
     "name": "stdout",
     "output_type": "stream",
     "text": [
      "R Squared: 0.9646530912944388\n",
      "Mean Abs Error: 37896.774272869596\n",
      "Mean Sqr Error: 5578833005.778754\n",
      "Root Mean Sqr Error: 74691.58591018639\n"
     ]
    }
   ],
   "source": [
    "from sklearn import metrics\n",
    "print('R Squared:',metrics.r2_score(Y_test,Y_predict))\n",
    "print('Mean Abs Error:',metrics.mean_absolute_error(Y_test,Y_predict))\n",
    "print('Mean Sqr Error:',metrics.mean_squared_error(Y_test,Y_predict))\n",
    "print('Root Mean Sqr Error:',np.sqrt(metrics.mean_squared_error(Y_test,Y_predict)))"
   ]
  },
  {
   "cell_type": "markdown",
   "metadata": {},
   "source": [
    "### Applying XGBoosting Algorithm"
   ]
  },
  {
   "cell_type": "code",
   "execution_count": 46,
   "metadata": {},
   "outputs": [],
   "source": [
    "import xgboost as xgb"
   ]
  },
  {
   "cell_type": "code",
   "execution_count": 47,
   "metadata": {},
   "outputs": [
    {
     "data": {
      "text/plain": [
       "XGBRegressor(base_score=0.5, booster='gbtree', colsample_bylevel=1,\n",
       "             colsample_bynode=1, colsample_bytree=0.4, gamma=0, gpu_id=-1,\n",
       "             importance_type='gain', interaction_constraints='',\n",
       "             learning_rate=0.07, max_delta_step=0, max_depth=3,\n",
       "             min_child_weight=1.5, missing=nan, monotone_constraints='()',\n",
       "             n_estimators=1000, n_jobs=0, num_parallel_tree=1, random_state=42,\n",
       "             reg_alpha=0.75, reg_lambda=0.45, scale_pos_weight=1, seed=42,\n",
       "             subsample=0.6, tree_method='exact', validate_parameters=1,\n",
       "             verbosity=None)"
      ]
     },
     "execution_count": 47,
     "metadata": {},
     "output_type": "execute_result"
    }
   ],
   "source": [
    "xg_reg = xgb.XGBRegressor(colsample_bytree=0.4,\n",
    "                 gamma=0,                 \n",
    "                 learning_rate=0.07,\n",
    "                 max_depth=3,\n",
    "                 min_child_weight=1.5,\n",
    "                 n_estimators=1000,                                                                    \n",
    "                 reg_alpha=0.75,\n",
    "                 reg_lambda=0.45,\n",
    "                 subsample=0.6,\n",
    "                 seed=42)\n",
    "\n",
    "xg_reg.fit(X_train,Y_train)"
   ]
  },
  {
   "cell_type": "code",
   "execution_count": 48,
   "metadata": {},
   "outputs": [],
   "source": [
    "Y_predict = xg_reg.predict(X_test)"
   ]
  },
  {
   "cell_type": "code",
   "execution_count": 49,
   "metadata": {},
   "outputs": [
    {
     "name": "stdout",
     "output_type": "stream",
     "text": [
      "R Squared: 0.9628118115268224\n",
      "Mean Abs Error: 36432.53574889089\n",
      "Mean Sqr Error: 5869443775.337635\n",
      "Root Mean Sqr Error: 76612.2951969045\n"
     ]
    }
   ],
   "source": [
    "print('R Squared:',metrics.r2_score(Y_test,Y_predict))\n",
    "print('Mean Abs Error:',metrics.mean_absolute_error(Y_test,Y_predict))\n",
    "print('Mean Sqr Error:',metrics.mean_squared_error(Y_test,Y_predict))\n",
    "print('Root Mean Sqr Error:',np.sqrt(metrics.mean_squared_error(Y_test,Y_predict)))"
   ]
  }
 ],
 "metadata": {
  "kernelspec": {
   "display_name": "Python 3",
   "language": "python",
   "name": "python3"
  },
  "language_info": {
   "codemirror_mode": {
    "name": "ipython",
    "version": 3
   },
   "file_extension": ".py",
   "mimetype": "text/x-python",
   "name": "python",
   "nbconvert_exporter": "python",
   "pygments_lexer": "ipython3",
   "version": "3.8.3"
  }
 },
 "nbformat": 4,
 "nbformat_minor": 2
}
